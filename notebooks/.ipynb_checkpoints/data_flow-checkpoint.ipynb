{
 "cells": [
  {
   "cell_type": "code",
   "execution_count": null,
   "metadata": {},
   "outputs": [],
   "source": [
    "%load_ext autoreload\n",
    "%autoreload 2\n"
   ]
  },
  {
   "cell_type": "code",
   "execution_count": 1,
   "metadata": {},
   "outputs": [],
   "source": [
    "import sys\n",
    "import argparse"
   ]
  },
  {
   "cell_type": "code",
   "execution_count": 33,
   "metadata": {},
   "outputs": [],
   "source": [
    "\n",
    "sys.path.append('/home/harsh/pixel-mamba/notebooks/render.py')\n",
    "sys.path.append('/home/harsh/pixel-mamba/src/')\n",
    "# sys.path.append('/Users/harsh/pixel-mamba/scripts/data/prerendering')\n",
    "sys.path.append('/home/harsh/pixel-mamba/src/pixel/models')\n",
    "sys.path.append('/home/harsh/pixel-mamba/src/pixel/data/models')\n",
    "sys.path.append('/home/harsh/pixel-mamba/src/pixel/data/models/biaffine.py')\n",
    "sys.path.append('/home/harsh/pixel-mamba/src/pixel/data/models/pooling.py')\n",
    "# sys.path.append('/home/harsh/pixel-mamba/src/pixel/data/PoolingMode.py')\n",
    "sys.path.append('/home/harsh/pixel-mamba/src/pixel/data/models/vit.py')\n",
    "sys.path.append('/home/harsh/pixel-mamba/src/pixel/data/models/pixel/configuration_pixel.py')\n",
    "\n",
    "# sys.path.append('/Users/harsh/pixel-mamba/src/pixel/models/pixba')\n",
    "\n"
   ]
  },
  {
   "cell_type": "code",
   "execution_count": 34,
   "metadata": {},
   "outputs": [
    {
     "ename": "ModuleNotFoundError",
     "evalue": "No module named 'configuration_pixel'",
     "output_type": "error",
     "traceback": [
      "\u001b[0;31m---------------------------------------------------------------------------\u001b[0m",
      "\u001b[0;31mModuleNotFoundError\u001b[0m                       Traceback (most recent call last)",
      "Cell \u001b[0;32mIn[34], line 1\u001b[0m\n\u001b[0;32m----> 1\u001b[0m \u001b[38;5;28;01mfrom\u001b[39;00m \u001b[38;5;21;01mpixba\u001b[39;00m \u001b[38;5;28;01mimport\u001b[39;00m modelling_pixba\n\u001b[1;32m      2\u001b[0m \u001b[38;5;28;01mfrom\u001b[39;00m \u001b[38;5;21;01mrender\u001b[39;00m \u001b[38;5;28;01mimport\u001b[39;00m RenderAndTransformOneExample\n\u001b[1;32m      4\u001b[0m \u001b[38;5;28;01mfrom\u001b[39;00m \u001b[38;5;21;01mpixba\u001b[39;00m \u001b[38;5;28;01mimport\u001b[39;00m configuration_pixba\n",
      "File \u001b[0;32m~/pixel-mamba/src/pixel/data/models/pixba/__init__.py:2\u001b[0m\n\u001b[1;32m      1\u001b[0m \u001b[38;5;28;01mfrom\u001b[39;00m \u001b[38;5;21;01m.\u001b[39;00m\u001b[38;5;21;01mconfiguration_pixba\u001b[39;00m \u001b[38;5;28;01mimport\u001b[39;00m \u001b[38;5;241m*\u001b[39m\n\u001b[0;32m----> 2\u001b[0m \u001b[38;5;28;01mfrom\u001b[39;00m \u001b[38;5;21;01m.\u001b[39;00m\u001b[38;5;21;01mmodelling_pixba\u001b[39;00m \u001b[38;5;28;01mimport\u001b[39;00m \u001b[38;5;241m*\u001b[39m\n",
      "File \u001b[0;32m~/pixel-mamba/src/pixel/data/models/pixba/modelling_pixba.py:34\u001b[0m\n\u001b[1;32m     32\u001b[0m \u001b[38;5;28;01mfrom\u001b[39;00m \u001b[38;5;21;01mpooling\u001b[39;00m \u001b[38;5;28;01mimport\u001b[39;00m PoolingForSequenceClassificationHead, PoolingMode\n\u001b[1;32m     33\u001b[0m \u001b[38;5;28;01mfrom\u001b[39;00m \u001b[38;5;21;01mvit\u001b[39;00m \u001b[38;5;28;01mimport\u001b[39;00m ViTModel\n\u001b[0;32m---> 34\u001b[0m \u001b[38;5;28;01mfrom\u001b[39;00m \u001b[38;5;21;01mconfiguration_pixel\u001b[39;00m \u001b[38;5;28;01mimport\u001b[39;00m PIXELConfig\n\u001b[1;32m     36\u001b[0m \u001b[38;5;28;01mfrom\u001b[39;00m \u001b[38;5;21;01mmamba_ssm\u001b[39;00m \u001b[38;5;28;01mimport\u001b[39;00m Mamba\n\u001b[1;32m     37\u001b[0m \u001b[38;5;28;01mfrom\u001b[39;00m \u001b[38;5;21;01mmamba_ssm\u001b[39;00m\u001b[38;5;21;01m.\u001b[39;00m\u001b[38;5;21;01mops\u001b[39;00m\u001b[38;5;21;01m.\u001b[39;00m\u001b[38;5;21;01mselective_scan_interface\u001b[39;00m \u001b[38;5;28;01mimport\u001b[39;00m selective_scan_fn, mamba_inner_fn\n",
      "\u001b[0;31mModuleNotFoundError\u001b[0m: No module named 'configuration_pixel'"
     ]
    }
   ],
   "source": [
    "from pixba import modelling_pixba\n",
    "from render import RenderAndTransformOneExample\n",
    "\n",
    "from pixba import configuration_pixba"
   ]
  },
  {
   "cell_type": "code",
   "execution_count": 22,
   "metadata": {},
   "outputs": [
    {
     "data": {
      "text/plain": [
       "['/home/harsh/miniconda3/envs/pixba/lib/python39.zip',\n",
       " '/home/harsh/miniconda3/envs/pixba/lib/python3.9/site-packages/cv2',\n",
       " '/home/harsh/miniconda3/envs/pixba/lib/python3.9',\n",
       " '/home/harsh/miniconda3/envs/pixba/lib/python3.9/lib-dynload',\n",
       " '',\n",
       " '/home/harsh/miniconda3/envs/pixba/lib/python3.9/site-packages',\n",
       " '/home/harsh/pixel-mamba/notebooks/render.py',\n",
       " '/home/harsh/pixel-mamba/src/',\n",
       " '/home/harsh/pixel-mamba/src/pixel/models',\n",
       " '/home/harsh/pixel-mamba/notebooks/render.py',\n",
       " '/home/harsh/pixel-mamba/src/',\n",
       " '/home/harsh/pixel-mamba/src/pixel/models',\n",
       " '/home/harsh/pixel-mamba/src/pixel/data/models',\n",
       " '/home/harsh/pixel-mamba/notebooks/render.py',\n",
       " '/home/harsh/pixel-mamba/src/',\n",
       " '/home/harsh/pixel-mamba/src/pixel/models',\n",
       " '/home/harsh/pixel-mamba/src/pixel/data/models',\n",
       " '/home/harsh/pixel-mamba/src/pixel/data/Biaffine.py',\n",
       " '/home/harsh/pixel-mamba/src/pixel/data/pooling.py',\n",
       " '/home/harsh/pixel-mamba/src/pixel/data/ViTModel.py']"
      ]
     },
     "execution_count": 22,
     "metadata": {},
     "output_type": "execute_result"
    }
   ],
   "source": [
    "sys.path"
   ]
  },
  {
   "cell_type": "code",
   "execution_count": null,
   "metadata": {},
   "outputs": [],
   "source": [
    "test_img=RenderAndTransformOneExample()\n"
   ]
  },
  {
   "cell_type": "markdown",
   "metadata": {},
   "source": [
    "We need to update the pixel config file as we run the notebook (this is like the map that gets updated at each stage of the training pipeline. Telling the model builder how to construct itself)"
   ]
  },
  {
   "cell_type": "code",
   "execution_count": 4,
   "metadata": {},
   "outputs": [],
   "source": [
    "config = configuration_pixba.PIXBAConfig()"
   ]
  },
  {
   "cell_type": "markdown",
   "metadata": {},
   "source": [
    "The config file specification for the PIXBAEmbeddings shouldn't need to change"
   ]
  },
  {
   "cell_type": "code",
   "execution_count": 5,
   "metadata": {},
   "outputs": [],
   "source": [
    "patch_embeddings = modelling_pixba.PIXBAEmbeddings(config)\n"
   ]
  },
  {
   "cell_type": "markdown",
   "metadata": {},
   "source": [
    "The below makes sense. 1 example of 8464/16 = 529 patches with dimension of 768."
   ]
  },
  {
   "cell_type": "code",
   "execution_count": 6,
   "metadata": {},
   "outputs": [
    {
     "name": "stdout",
     "output_type": "stream",
     "text": [
      "pixel dimensions before embedding:torch.Size([1, 3, 16, 8464])\n",
      "pixel dimensions after embedding:torch.Size([1, 529, 768])\n"
     ]
    }
   ],
   "source": [
    "embeddings, attention_mask, mask, ids_restore = patch_embeddings.forward(test_img['transformed_pixel_values'][0],attention_mask=test_img['attention_mask'][0], patch_mask=None)"
   ]
  },
  {
   "cell_type": "markdown",
   "metadata": {},
   "source": []
  },
  {
   "cell_type": "code",
   "execution_count": 8,
   "metadata": {},
   "outputs": [
    {
     "data": {
      "text/plain": [
       "torch.Size([1, 397, 768])"
      ]
     },
     "execution_count": 8,
     "metadata": {},
     "output_type": "execute_result"
    }
   ],
   "source": [
    "embeddings.shape"
   ]
  },
  {
   "cell_type": "code",
   "execution_count": null,
   "metadata": {},
   "outputs": [],
   "source": []
  },
  {
   "cell_type": "code",
   "execution_count": null,
   "metadata": {},
   "outputs": [],
   "source": []
  }
 ],
 "metadata": {
  "kernelspec": {
   "display_name": "Python 3 (ipykernel)",
   "language": "python",
   "name": "python3"
  },
  "language_info": {
   "codemirror_mode": {
    "name": "ipython",
    "version": 3
   },
   "file_extension": ".py",
   "mimetype": "text/x-python",
   "name": "python",
   "nbconvert_exporter": "python",
   "pygments_lexer": "ipython3",
   "version": "3.9.18"
  },
  "vscode": {
   "interpreter": {
    "hash": "4ef8079c0df1401ad2745433c6b9c58cbb0ac8bce079e4a8eabb615321e3546c"
   }
  }
 },
 "nbformat": 4,
 "nbformat_minor": 4
}
