{
 "cells": [
  {
   "cell_type": "code",
   "execution_count": 1,
   "metadata": {},
   "outputs": [],
   "source": [
    "%load_ext autoreload\n",
    "%autoreload 2\n"
   ]
  },
  {
   "cell_type": "code",
   "execution_count": 2,
   "metadata": {},
   "outputs": [
    {
     "name": "stderr",
     "output_type": "stream",
     "text": [
      "/Users/maxoliverstapyltonnorris/miniforge3/envs/pixel-mamba/lib/python3.9/site-packages/tqdm/auto.py:21: TqdmWarning: IProgress not found. Please update jupyter and ipywidgets. See https://ipywidgets.readthedocs.io/en/stable/user_install.html\n",
      "  from .autonotebook import tqdm as notebook_tqdm\n"
     ]
    }
   ],
   "source": [
    "import sys\n",
    "import argparse\n",
    "sys.path.append('/Users/maxoliverstapyltonnorris/pixel-mamba/notebooks/render.py')\n",
    "sys.path.append('/Users/maxoliverstapyltonnorris/pixel-mamba/src/')\n",
    "sys.path.append('/Users/maxoliverstapyltonnorris/pixel-mamba/scripts/data/prerendering')\n",
    "sys.path.append('/Users/maxoliverstapyltonnorris/pixel-mamba/src/pixel/models')\n",
    "from pixba import modelling_pixba\n",
    "from render import RenderAndTransformOneExample\n",
    "from pixba import configuration_pixba\n"
   ]
  },
  {
   "cell_type": "code",
   "execution_count": 3,
   "metadata": {},
   "outputs": [],
   "source": [
    "test_img=RenderAndTransformOneExample()\n"
   ]
  },
  {
   "cell_type": "markdown",
   "metadata": {},
   "source": [
    "We need to update the pixel config file as we run the notebook (this is like the map that gets updated at each stage of the training pipeline. Telling the model builder how to construct itself)"
   ]
  },
  {
   "cell_type": "code",
   "execution_count": 4,
   "metadata": {},
   "outputs": [],
   "source": [
    "config = configuration_pixba.PIXBAConfig()"
   ]
  },
  {
   "cell_type": "markdown",
   "metadata": {},
   "source": [
    "The config file specification for the PIXBAEmbeddings shouldn't need to change"
   ]
  },
  {
   "cell_type": "code",
   "execution_count": 5,
   "metadata": {},
   "outputs": [],
   "source": [
    "patch_embeddings = modelling_pixba.PIXBAEmbeddings(config)\n"
   ]
  },
  {
   "cell_type": "markdown",
   "metadata": {},
   "source": [
    "The below makes sense. 1 example of 8464/16 = 529 patches with dimension of 768."
   ]
  },
  {
   "cell_type": "code",
   "execution_count": 6,
   "metadata": {},
   "outputs": [
    {
     "name": "stdout",
     "output_type": "stream",
     "text": [
      "pixel dimensions before embedding:torch.Size([1, 3, 16, 8464])\n",
      "pixel dimensions after embedding:torch.Size([1, 529, 768])\n"
     ]
    }
   ],
   "source": [
    "embeddings, attention_mask, mask, ids_restore = patch_embeddings.forward(test_img['transformed_pixel_values'][0],attention_mask=test_img['attention_mask'][0], patch_mask=None)"
   ]
  },
  {
   "cell_type": "markdown",
   "metadata": {},
   "source": []
  },
  {
   "cell_type": "code",
   "execution_count": 8,
   "metadata": {},
   "outputs": [
    {
     "data": {
      "text/plain": [
       "torch.Size([1, 397, 768])"
      ]
     },
     "execution_count": 8,
     "metadata": {},
     "output_type": "execute_result"
    }
   ],
   "source": [
    "embeddings.shape"
   ]
  },
  {
   "cell_type": "code",
   "execution_count": null,
   "metadata": {},
   "outputs": [],
   "source": []
  },
  {
   "cell_type": "code",
   "execution_count": null,
   "metadata": {},
   "outputs": [],
   "source": []
  }
 ],
 "metadata": {
  "kernelspec": {
   "display_name": "Python 3.9.18 ('pixel-mamba')",
   "language": "python",
   "name": "python3"
  },
  "language_info": {
   "codemirror_mode": {
    "name": "ipython",
    "version": 3
   },
   "file_extension": ".py",
   "mimetype": "text/x-python",
   "name": "python",
   "nbconvert_exporter": "python",
   "pygments_lexer": "ipython3",
   "version": "3.9.18"
  },
  "orig_nbformat": 4,
  "vscode": {
   "interpreter": {
    "hash": "4ef8079c0df1401ad2745433c6b9c58cbb0ac8bce079e4a8eabb615321e3546c"
   }
  }
 },
 "nbformat": 4,
 "nbformat_minor": 2
}
